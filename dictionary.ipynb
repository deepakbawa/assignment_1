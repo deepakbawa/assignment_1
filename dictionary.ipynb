{
 "cells": [
  {
   "cell_type": "code",
   "execution_count": 1,
   "id": "512e37df-16dc-44c5-80d2-e5e3f62f0444",
   "metadata": {},
   "outputs": [],
   "source": [
    "d = {}"
   ]
  },
  {
   "cell_type": "code",
   "execution_count": 2,
   "id": "db89e85a-a791-4c6a-8135-1429b2c8101c",
   "metadata": {},
   "outputs": [
    {
     "data": {
      "text/plain": [
       "dict"
      ]
     },
     "execution_count": 2,
     "metadata": {},
     "output_type": "execute_result"
    }
   ],
   "source": [
    "type(d)"
   ]
  },
  {
   "cell_type": "code",
   "execution_count": 3,
   "id": "98057f0a-25ad-4e95-8fca-d5923d5438fe",
   "metadata": {},
   "outputs": [
    {
     "data": {
      "text/plain": [
       "{}"
      ]
     },
     "execution_count": 3,
     "metadata": {},
     "output_type": "execute_result"
    }
   ],
   "source": [
    "d"
   ]
  },
  {
   "cell_type": "code",
   "execution_count": 4,
   "id": "5e0219ca-689d-4c45-a1c5-8b0bb5f38802",
   "metadata": {},
   "outputs": [],
   "source": [
    "d1 = {'key' : 'sudh'}"
   ]
  },
  {
   "cell_type": "code",
   "execution_count": 5,
   "id": "735ffcfa-7b96-418f-a1ad-d3062498b46f",
   "metadata": {},
   "outputs": [
    {
     "data": {
      "text/plain": [
       "{'key': 'sudh'}"
      ]
     },
     "execution_count": 5,
     "metadata": {},
     "output_type": "execute_result"
    }
   ],
   "source": [
    "d1"
   ]
  },
  {
   "cell_type": "code",
   "execution_count": 6,
   "id": "98723b7d-c859-4af2-94aa-57c74a5a345d",
   "metadata": {},
   "outputs": [],
   "source": [
    "d2 = {'name' : \"deepak\" , 'Emails' : \"d@gamil.com\", 'number' : 334534 }"
   ]
  },
  {
   "cell_type": "code",
   "execution_count": 7,
   "id": "4168f51e-613e-4796-a437-955093711a3b",
   "metadata": {},
   "outputs": [
    {
     "data": {
      "text/plain": [
       "{'name': 'deepak', 'Emails': 'd@gamil.com', 'number': 334534}"
      ]
     },
     "execution_count": 7,
     "metadata": {},
     "output_type": "execute_result"
    }
   ],
   "source": [
    "d2"
   ]
  },
  {
   "cell_type": "code",
   "execution_count": 10,
   "id": "09801e63-5863-49b2-8088-e9f633585e9a",
   "metadata": {},
   "outputs": [],
   "source": [
    "d3={234:'sudh' ,  '_wer' : 'kumer',True:234345, False: 2344234}"
   ]
  },
  {
   "cell_type": "code",
   "execution_count": 11,
   "id": "47e3e5f5-177b-4f5a-ac35-830355c6e1fc",
   "metadata": {},
   "outputs": [
    {
     "data": {
      "text/plain": [
       "{234: 'sudh', '_wer': 'kumer', True: 234345, False: 2344234}"
      ]
     },
     "execution_count": 11,
     "metadata": {},
     "output_type": "execute_result"
    }
   ],
   "source": [
    "d3"
   ]
  },
  {
   "cell_type": "code",
   "execution_count": 13,
   "id": "6bb3f53b-718f-4c86-87f4-0fb36f2dca87",
   "metadata": {},
   "outputs": [
    {
     "data": {
      "text/plain": [
       "'sudh'"
      ]
     },
     "execution_count": 13,
     "metadata": {},
     "output_type": "execute_result"
    }
   ],
   "source": [
    "d3[234]"
   ]
  },
  {
   "cell_type": "code",
   "execution_count": 14,
   "id": "a8c3a521-9e06-492c-a8d0-a13f4c485324",
   "metadata": {},
   "outputs": [
    {
     "data": {
      "text/plain": [
       "234345"
      ]
     },
     "execution_count": 14,
     "metadata": {},
     "output_type": "execute_result"
    }
   ],
   "source": [
    "d3[True]"
   ]
  },
  {
   "cell_type": "code",
   "execution_count": 15,
   "id": "e6a55b28-ee08-4de2-9b3c-ae9a2adcbd58",
   "metadata": {},
   "outputs": [
    {
     "data": {
      "text/plain": [
       "234345"
      ]
     },
     "execution_count": 15,
     "metadata": {},
     "output_type": "execute_result"
    }
   ],
   "source": [
    "d3[1]"
   ]
  },
  {
   "cell_type": "code",
   "execution_count": 16,
   "id": "c6b758f3-75ee-49c4-9910-b5a2b6cb905a",
   "metadata": {},
   "outputs": [
    {
     "data": {
      "text/plain": [
       "2344234"
      ]
     },
     "execution_count": 16,
     "metadata": {},
     "output_type": "execute_result"
    }
   ],
   "source": [
    "d3[0]"
   ]
  },
  {
   "cell_type": "code",
   "execution_count": 17,
   "id": "5d692f51-f97d-4ee6-8520-baaa8d389361",
   "metadata": {},
   "outputs": [
    {
     "data": {
      "text/plain": [
       "{234: 'sudh', '_wer': 'kumer', True: 234345, False: 2344234}"
      ]
     },
     "execution_count": 17,
     "metadata": {},
     "output_type": "execute_result"
    }
   ],
   "source": [
    "d3"
   ]
  },
  {
   "cell_type": "code",
   "execution_count": 18,
   "id": "815cdc1b-2e0e-4552-a6ed-1ae822ee934d",
   "metadata": {},
   "outputs": [],
   "source": [
    "d4 = {'name': 'sudh' , 'mail_id' : 'ss@gamil.com', \"name\":'deepak'}"
   ]
  },
  {
   "cell_type": "code",
   "execution_count": 20,
   "id": "4ee1a8e9-6be1-4992-bd71-0616278d3d36",
   "metadata": {},
   "outputs": [
    {
     "data": {
      "text/plain": [
       "'deepak'"
      ]
     },
     "execution_count": 20,
     "metadata": {},
     "output_type": "execute_result"
    }
   ],
   "source": [
    "d4['name']"
   ]
  },
  {
   "cell_type": "code",
   "execution_count": 21,
   "id": "8083bcbd-a3ce-4737-b908-18345d13407c",
   "metadata": {},
   "outputs": [],
   "source": [
    "d5 = {\"company\" : 'pwskills' , 'course' : ['web dev', 'data science', 'java']}"
   ]
  },
  {
   "cell_type": "code",
   "execution_count": 23,
   "id": "d2945565-62ef-4ebb-808d-87db8cf36488",
   "metadata": {},
   "outputs": [
    {
     "data": {
      "text/plain": [
       "['web dev', 'data science', 'java']"
      ]
     },
     "execution_count": 23,
     "metadata": {},
     "output_type": "execute_result"
    }
   ],
   "source": [
    "d5['course']"
   ]
  },
  {
   "cell_type": "code",
   "execution_count": 24,
   "id": "b9cabff8-5d53-456f-86bf-db3dd99e9136",
   "metadata": {},
   "outputs": [
    {
     "data": {
      "text/plain": [
       "'java'"
      ]
     },
     "execution_count": 24,
     "metadata": {},
     "output_type": "execute_result"
    }
   ],
   "source": [
    "d5['course'][2]"
   ]
  },
  {
   "cell_type": "code",
   "execution_count": 32,
   "id": "9279dcde-1bcd-4841-81b3-f3ef78f6f741",
   "metadata": {},
   "outputs": [],
   "source": [
    "d6 = {'number' : [2,34,3,34,34], 'assignment':(1,2,3,4,5,6), 'launch_date':{28,35,12,2,3,4,5,7,9,34,21,1,2,3,4,5},'class_time':{'web_dev':8,'Data_science':8}}"
   ]
  },
  {
   "cell_type": "code",
   "execution_count": 33,
   "id": "5ae72168-a1ce-43f2-b756-371efbdbef1a",
   "metadata": {},
   "outputs": [
    {
     "data": {
      "text/plain": [
       "{'number': [2, 34, 3, 34, 34],\n",
       " 'assignment': (1, 2, 3, 4, 5, 6),\n",
       " 'launch_date': {1, 2, 3, 4, 5, 7, 9, 12, 21, 28, 34, 35},\n",
       " 'class_time': {'web_dev': 8, 'Data_science': 8}}"
      ]
     },
     "execution_count": 33,
     "metadata": {},
     "output_type": "execute_result"
    }
   ],
   "source": [
    "d6"
   ]
  },
  {
   "cell_type": "code",
   "execution_count": 36,
   "id": "1a9c4922-6ea3-4bc0-b42d-b89219ae4c55",
   "metadata": {},
   "outputs": [
    {
     "data": {
      "text/plain": [
       "8"
      ]
     },
     "execution_count": 36,
     "metadata": {},
     "output_type": "execute_result"
    }
   ],
   "source": [
    "d6['class_time']['Data_science']"
   ]
  },
  {
   "cell_type": "code",
   "execution_count": 37,
   "id": "244c0871-dd7e-402f-8e55-d3ed0c462ab2",
   "metadata": {},
   "outputs": [],
   "source": [
    "d6['mentor']=['su','kris','anurag','haydr']"
   ]
  },
  {
   "cell_type": "code",
   "execution_count": 38,
   "id": "36edc0e3-0c69-4699-862f-85957cea5796",
   "metadata": {},
   "outputs": [
    {
     "data": {
      "text/plain": [
       "{'number': [2, 34, 3, 34, 34],\n",
       " 'assignment': (1, 2, 3, 4, 5, 6),\n",
       " 'launch_date': {1, 2, 3, 4, 5, 7, 9, 12, 21, 28, 34, 35},\n",
       " 'class_time': {'web_dev': 8, 'Data_science': 8},\n",
       " 'mentor': ['su', 'kris', 'anurag', 'haydr']}"
      ]
     },
     "execution_count": 38,
     "metadata": {},
     "output_type": "execute_result"
    }
   ],
   "source": [
    "d6"
   ]
  },
  {
   "cell_type": "code",
   "execution_count": 39,
   "id": "7dc8447c-bc1e-4d1f-a81a-325228b62dd7",
   "metadata": {},
   "outputs": [],
   "source": [
    "del d6[\"number\"]"
   ]
  },
  {
   "cell_type": "code",
   "execution_count": 40,
   "id": "62a2fb49-6f56-452b-b862-bb693d7b5749",
   "metadata": {},
   "outputs": [
    {
     "data": {
      "text/plain": [
       "{'assignment': (1, 2, 3, 4, 5, 6),\n",
       " 'launch_date': {1, 2, 3, 4, 5, 7, 9, 12, 21, 28, 34, 35},\n",
       " 'class_time': {'web_dev': 8, 'Data_science': 8},\n",
       " 'mentor': ['su', 'kris', 'anurag', 'haydr']}"
      ]
     },
     "execution_count": 40,
     "metadata": {},
     "output_type": "execute_result"
    }
   ],
   "source": [
    "d6"
   ]
  },
  {
   "cell_type": "code",
   "execution_count": 42,
   "id": "8129e7f9-ee57-4bda-af61-494863d128ac",
   "metadata": {},
   "outputs": [
    {
     "data": {
      "text/plain": [
       "['assignment', 'launch_date', 'class_time', 'mentor']"
      ]
     },
     "execution_count": 42,
     "metadata": {},
     "output_type": "execute_result"
    }
   ],
   "source": [
    "list(d6.keys())"
   ]
  },
  {
   "cell_type": "code",
   "execution_count": 43,
   "id": "60d4e461-5e24-44bb-a00f-72ce45e349d5",
   "metadata": {},
   "outputs": [
    {
     "data": {
      "text/plain": [
       "[(1, 2, 3, 4, 5, 6),\n",
       " {1, 2, 3, 4, 5, 7, 9, 12, 21, 28, 34, 35},\n",
       " {'web_dev': 8, 'Data_science': 8},\n",
       " ['su', 'kris', 'anurag', 'haydr']]"
      ]
     },
     "execution_count": 43,
     "metadata": {},
     "output_type": "execute_result"
    }
   ],
   "source": [
    "list(d6.values())"
   ]
  },
  {
   "cell_type": "code",
   "execution_count": 44,
   "id": "724e9101-1362-44a7-9917-9894df77eeb1",
   "metadata": {},
   "outputs": [
    {
     "data": {
      "text/plain": [
       "[('assignment', (1, 2, 3, 4, 5, 6)),\n",
       " ('launch_date', {1, 2, 3, 4, 5, 7, 9, 12, 21, 28, 34, 35}),\n",
       " ('class_time', {'web_dev': 8, 'Data_science': 8}),\n",
       " ('mentor', ['su', 'kris', 'anurag', 'haydr'])]"
      ]
     },
     "execution_count": 44,
     "metadata": {},
     "output_type": "execute_result"
    }
   ],
   "source": [
    "list(d6.items())"
   ]
  },
  {
   "cell_type": "code",
   "execution_count": 45,
   "id": "b735b781-8b95-44e8-9e04-ea007d21dce3",
   "metadata": {},
   "outputs": [
    {
     "data": {
      "text/plain": [
       "(1, 2, 3, 4, 5, 6)"
      ]
     },
     "execution_count": 45,
     "metadata": {},
     "output_type": "execute_result"
    }
   ],
   "source": [
    "d6.pop('assignment')"
   ]
  },
  {
   "cell_type": "code",
   "execution_count": 46,
   "id": "d5751303-1edc-4a9f-83b5-acb7e19fdfdf",
   "metadata": {},
   "outputs": [
    {
     "data": {
      "text/plain": [
       "{'launch_date': {1, 2, 3, 4, 5, 7, 9, 12, 21, 28, 34, 35},\n",
       " 'class_time': {'web_dev': 8, 'Data_science': 8},\n",
       " 'mentor': ['su', 'kris', 'anurag', 'haydr']}"
      ]
     },
     "execution_count": 46,
     "metadata": {},
     "output_type": "execute_result"
    }
   ],
   "source": [
    "d6"
   ]
  },
  {
   "cell_type": "code",
   "execution_count": 47,
   "id": "7bca1e12-0016-4c7c-92e6-f4d5ac80e4bc",
   "metadata": {},
   "outputs": [
    {
     "ename": "TypeError",
     "evalue": "pop expected at least 1 argument, got 0",
     "output_type": "error",
     "traceback": [
      "\u001b[0;31m---------------------------------------------------------------------------\u001b[0m",
      "\u001b[0;31mTypeError\u001b[0m                                 Traceback (most recent call last)",
      "Cell \u001b[0;32mIn[47], line 1\u001b[0m\n\u001b[0;32m----> 1\u001b[0m \u001b[43md6\u001b[49m\u001b[38;5;241;43m.\u001b[39;49m\u001b[43mpop\u001b[49m\u001b[43m(\u001b[49m\u001b[43m)\u001b[49m\n",
      "\u001b[0;31mTypeError\u001b[0m: pop expected at least 1 argument, got 0"
     ]
    }
   ],
   "source": [
    "d6.pop()"
   ]
  },
  {
   "cell_type": "code",
   "execution_count": 64,
   "id": "363accff-6381-4e24-824b-a90943fa2c97",
   "metadata": {},
   "outputs": [
    {
     "name": "stdin",
     "output_type": "stream",
     "text": [
      "enter your marks 90\n"
     ]
    },
    {
     "name": "stdout",
     "output_type": "stream",
     "text": [
      "you will be a part of a0 batch\n"
     ]
    }
   ],
   "source": [
    "marks = int(input(\"enter your marks\"))\n",
    "if marks >=80 :\n",
    "    print(\"you will be a part of a0 batch\")\n",
    "elif marks >=60 and marks<80:\n",
    "    print(\"you will be a part of a1 batch\")\n",
    "elif marks >= 40 and marks < 60:\n",
    "    print(\"you will be a part of a2 batch\")\n",
    "else : \n",
    "    print(\"you will be a part of a3 batch\")"
   ]
  },
  {
   "cell_type": "code",
   "execution_count": 55,
   "id": "265920ca-df50-4aa3-8b39-efd940dc4281",
   "metadata": {},
   "outputs": [
    {
     "data": {
      "text/plain": [
       "False"
      ]
     },
     "execution_count": 55,
     "metadata": {},
     "output_type": "execute_result"
    }
   ],
   "source": [
    "10>=80"
   ]
  },
  {
   "cell_type": "code",
   "execution_count": 65,
   "id": "8358cba3-37dc-4406-8753-e4af03d1bf10",
   "metadata": {},
   "outputs": [
    {
     "name": "stdin",
     "output_type": "stream",
     "text": [
      "enter your marks 34\n"
     ]
    }
   ],
   "source": [
    "marks = int(input(\"enter your marks\"))"
   ]
  },
  {
   "cell_type": "code",
   "execution_count": 66,
   "id": "c988d78c-3036-4fb9-851c-01fb159a71e2",
   "metadata": {},
   "outputs": [
    {
     "data": {
      "text/plain": [
       "34"
      ]
     },
     "execution_count": 66,
     "metadata": {},
     "output_type": "execute_result"
    }
   ],
   "source": [
    "marks"
   ]
  },
  {
   "cell_type": "code",
   "execution_count": 67,
   "id": "ca51247e-a1be-400b-b58a-1b097284f271",
   "metadata": {},
   "outputs": [
    {
     "data": {
      "text/plain": [
       "int"
      ]
     },
     "execution_count": 67,
     "metadata": {},
     "output_type": "execute_result"
    }
   ],
   "source": [
    "type(marks)"
   ]
  },
  {
   "cell_type": "code",
   "execution_count": 70,
   "id": "c889365f-1a52-4954-a5e4-fa2a9c14d3c5",
   "metadata": {},
   "outputs": [
    {
     "name": "stdin",
     "output_type": "stream",
     "text": [
      "enter price 500\n"
     ]
    },
    {
     "name": "stdout",
     "output_type": "stream",
     "text": [
      "i will purchase\n"
     ]
    }
   ],
   "source": [
    "price = int(input(\"enter price\"))\n",
    "if price > 1000:\n",
    "    print(\"i will not purchase\")\n",
    "else:\n",
    "          print(\"i will purchase\")"
   ]
  },
  {
   "cell_type": "code",
   "execution_count": 80,
   "id": "22d53d6d-5e69-44f5-9436-bd14d9e018b7",
   "metadata": {},
   "outputs": [
    {
     "name": "stdin",
     "output_type": "stream",
     "text": [
      "enter price 1500\n"
     ]
    },
    {
     "name": "stdout",
     "output_type": "stream",
     "text": [
      "i will not purchase\n",
      "its ok\n"
     ]
    }
   ],
   "source": [
    "price = int(input(\"enter price\"))\n",
    "if price > 1000:\n",
    "    print(\"i will not purchase\")\n",
    "    if price > 5000:\n",
    "        print(\"this is too much\")\n",
    "    elif price <2000:\n",
    "            print(\"its ok\")"
   ]
  },
  {
   "cell_type": "code",
   "execution_count": 81,
   "id": "c17fd255-140b-42c2-a1fb-3c105581496e",
   "metadata": {},
   "outputs": [],
   "source": [
    "l = [1,2,3,3,4,5,6,7,8]"
   ]
  },
  {
   "cell_type": "code",
   "execution_count": 83,
   "id": "168cff96-fa7e-46ac-9c0f-545444e8539c",
   "metadata": {},
   "outputs": [
    {
     "data": {
      "text/plain": [
       "2"
      ]
     },
     "execution_count": 83,
     "metadata": {},
     "output_type": "execute_result"
    }
   ],
   "source": [
    "l[0] +1"
   ]
  },
  {
   "cell_type": "code",
   "execution_count": 84,
   "id": "deae01ce-47bf-4207-b6b6-750b69603db8",
   "metadata": {},
   "outputs": [],
   "source": [
    "l1=[]"
   ]
  },
  {
   "cell_type": "code",
   "execution_count": 86,
   "id": "b90cb556-bd49-4bde-a1d8-5de2dbcf89da",
   "metadata": {},
   "outputs": [],
   "source": [
    "l1.append(l[0] + 1)"
   ]
  },
  {
   "cell_type": "code",
   "execution_count": 87,
   "id": "b87b5f31-deda-4806-89fb-834c4bf477ad",
   "metadata": {},
   "outputs": [
    {
     "data": {
      "text/plain": [
       "[2]"
      ]
     },
     "execution_count": 87,
     "metadata": {},
     "output_type": "execute_result"
    }
   ],
   "source": [
    "l1"
   ]
  },
  {
   "cell_type": "code",
   "execution_count": 90,
   "id": "ce193786-368b-4340-8c29-dc84a58f3d01",
   "metadata": {},
   "outputs": [],
   "source": [
    "l = [1,2,3,3,4,5,6,7,8]"
   ]
  },
  {
   "cell_type": "code",
   "execution_count": 98,
   "id": "64f5a4ff-7293-4040-a175-d19de4ab30d0",
   "metadata": {},
   "outputs": [
    {
     "name": "stdout",
     "output_type": "stream",
     "text": [
      "2\n",
      "3\n",
      "4\n",
      "4\n",
      "5\n",
      "6\n",
      "7\n",
      "8\n",
      "9\n"
     ]
    },
    {
     "data": {
      "text/plain": [
       "[2, 3, 4, 4, 5, 6, 7, 8, 9]"
      ]
     },
     "execution_count": 98,
     "metadata": {},
     "output_type": "execute_result"
    }
   ],
   "source": [
    "l1 = []\n",
    "for i in l:\n",
    "    print(i+1)\n",
    "    l1.append(i+1)\n",
    "l1"
   ]
  },
  {
   "cell_type": "code",
   "execution_count": 99,
   "id": "521697c8-208a-4621-af3e-1ece9ee317e6",
   "metadata": {},
   "outputs": [
    {
     "data": {
      "text/plain": [
       "[2, 3, 4, 4, 5, 6, 7, 8, 9]"
      ]
     },
     "execution_count": 99,
     "metadata": {},
     "output_type": "execute_result"
    }
   ],
   "source": [
    "l1"
   ]
  },
  {
   "cell_type": "code",
   "execution_count": 100,
   "id": "14355c71-0f86-44ba-a17c-a5399a3df62d",
   "metadata": {},
   "outputs": [],
   "source": [
    "l = [\"sudh\", 'kumar', 'asdasd' , 'pasodajsdlk']"
   ]
  },
  {
   "cell_type": "code",
   "execution_count": 106,
   "id": "db2b306b-18c0-4f33-87a0-f7c1c02b1ef8",
   "metadata": {},
   "outputs": [
    {
     "name": "stdout",
     "output_type": "stream",
     "text": [
      "sudh\n",
      "kumar\n",
      "asdasd\n",
      "pasodajsdlk\n"
     ]
    }
   ],
   "source": [
    "l1 =[]\n",
    "for i in l:\n",
    "    print(i)\n",
    "    l1.append(i.upper())"
   ]
  },
  {
   "cell_type": "code",
   "execution_count": 107,
   "id": "ba290fd4-cf60-43a1-a29d-bc219ba95a22",
   "metadata": {},
   "outputs": [
    {
     "data": {
      "text/plain": [
       "['SUDH', 'KUMAR', 'ASDASD', 'PASODAJSDLK']"
      ]
     },
     "execution_count": 107,
     "metadata": {},
     "output_type": "execute_result"
    }
   ],
   "source": [
    "l1"
   ]
  },
  {
   "cell_type": "code",
   "execution_count": 108,
   "id": "e8b9bb6a-e527-4154-b1ca-82cc69909455",
   "metadata": {},
   "outputs": [],
   "source": [
    "l = [1,2,3,4,4,'sudh','kumar',324,34.256,'abc']"
   ]
  },
  {
   "cell_type": "code",
   "execution_count": 111,
   "id": "35388a49-6797-41cb-b352-8c34edc00ab0",
   "metadata": {},
   "outputs": [],
   "source": [
    "l1_num = []\n",
    "l2_str = []\n",
    "for i in l :\n",
    "    if type(i) == int or type(i) == float :\n",
    "        l1_num.append(i)\n",
    "else :\n",
    "    l2_str.append(i)"
   ]
  },
  {
   "cell_type": "code",
   "execution_count": 112,
   "id": "abe5942a-c09f-46d4-bb90-c91a04a1a2ea",
   "metadata": {},
   "outputs": [
    {
     "data": {
      "text/plain": [
       "[1, 2, 3, 4, 4, 324, 34.256]"
      ]
     },
     "execution_count": 112,
     "metadata": {},
     "output_type": "execute_result"
    }
   ],
   "source": [
    "l1_num"
   ]
  },
  {
   "cell_type": "code",
   "execution_count": 113,
   "id": "80c1e59f-7eef-45f7-b531-ad3cd6deb814",
   "metadata": {},
   "outputs": [
    {
     "data": {
      "text/plain": [
       "['abc']"
      ]
     },
     "execution_count": 113,
     "metadata": {},
     "output_type": "execute_result"
    }
   ],
   "source": [
    "l2_str"
   ]
  },
  {
   "cell_type": "code",
   "execution_count": null,
   "id": "99e73aa7-efbf-42bc-98c4-15aa48126aa3",
   "metadata": {},
   "outputs": [],
   "source": []
  }
 ],
 "metadata": {
  "kernelspec": {
   "display_name": "Python 3 (ipykernel)",
   "language": "python",
   "name": "python3"
  },
  "language_info": {
   "codemirror_mode": {
    "name": "ipython",
    "version": 3
   },
   "file_extension": ".py",
   "mimetype": "text/x-python",
   "name": "python",
   "nbconvert_exporter": "python",
   "pygments_lexer": "ipython3",
   "version": "3.10.8"
  }
 },
 "nbformat": 4,
 "nbformat_minor": 5
}
